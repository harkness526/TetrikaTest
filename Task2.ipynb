{
 "cells": [
  {
   "cell_type": "code",
   "execution_count": 168,
   "metadata": {},
   "outputs": [
    {
     "name": "stdout",
     "output_type": "stream",
     "text": [
      "Введите путь к файлу: sudoku.txt\n",
      "483921657\n",
      "967345821\n",
      "251876493\n",
      "548132976\n",
      "729564138\n",
      "136798245\n",
      "372689514\n",
      "814253769\n",
      "695417382\n"
     ]
    }
   ],
   "source": [
    "def find_zero(sdk):\n",
    "    for row in range(9):\n",
    "        for col in range(9):\n",
    "            if sdk[row][col] == 0:\n",
    "                return row, col\n",
    "    return 101, 101\n",
    "\n",
    "\n",
    "def correct(sdk, row,col,number):\n",
    "    for i in range(9):\n",
    "        if sdk[i][col]== number or sdk[row][i] == number:\n",
    "            return False\n",
    "\n",
    "    istart = row // 3\n",
    "    jstart = col // 3\n",
    "\n",
    "    for i in range(3*istart, 3*istart + 3):\n",
    "        for j in range(3*jstart, 3*jstart + 3):\n",
    "            if sdk[i][j]== number:\n",
    "                return False\n",
    "    return True\n",
    "\n",
    "def solve(sdk):\n",
    "    cell_y, cell_x = find_zero(sdk)\n",
    "    if cell_x == 101:\n",
    "        return True\n",
    "    else:\n",
    "        for number in range(1,10):\n",
    "            if correct(sdk,cell_y,cell_x,number):\n",
    "                sdk[cell_y][cell_x] = number\n",
    "                if solve(sdk):\n",
    "                    return True\n",
    "                sdk[cell_y][cell_x] = 0\n",
    "        return False\n",
    "    \n",
    "def print_sdk(sdk):\n",
    "    for row in range(9):\n",
    "        for col in range(9):\n",
    "            print(sdk[row][col], end='')\n",
    "        print()\n",
    "        \n",
    "path = input('Введите путь к файлу: ')\n",
    "\n",
    "sdk = []\n",
    "with open(path) as file:\n",
    "    for line in file:\n",
    "        line = line.strip()\n",
    "        sdk.append([int(n) for n in line])\n",
    "        \n",
    "solve(sdk)  \n",
    "print_sdk(sdk)"
   ]
  }
 ],
 "metadata": {
  "kernelspec": {
   "display_name": "Python 3",
   "language": "python",
   "name": "python3"
  },
  "language_info": {
   "codemirror_mode": {
    "name": "ipython",
    "version": 3
   },
   "file_extension": ".py",
   "mimetype": "text/x-python",
   "name": "python",
   "nbconvert_exporter": "python",
   "pygments_lexer": "ipython3",
   "version": "3.7.3"
  }
 },
 "nbformat": 4,
 "nbformat_minor": 4
}
